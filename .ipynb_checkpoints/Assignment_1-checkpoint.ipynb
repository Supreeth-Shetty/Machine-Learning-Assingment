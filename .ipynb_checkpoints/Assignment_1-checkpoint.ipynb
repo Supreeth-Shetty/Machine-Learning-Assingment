{
 "cells": [
  {
   "cell_type": "markdown",
   "id": "f0a86184",
   "metadata": {},
   "source": [
    "### 1. What does one mean by the term \"machine learning\"?"
   ]
  },
  {
   "cell_type": "markdown",
   "id": "963b81f6",
   "metadata": {},
   "source": [
    "Ans : Machine learning is a branch of artificial intelligence (AI) and computer science which focuses on the use of data and algorithms to imitate the way that humans learn, gradually improving its accuracy"
   ]
  },
  {
   "cell_type": "code",
   "execution_count": null,
   "id": "5f2708ef",
   "metadata": {},
   "outputs": [],
   "source": []
  },
  {
   "cell_type": "markdown",
   "id": "ce819f78",
   "metadata": {},
   "source": [
    "### 2.Can you think of 4 distinct types of issues where it shines?"
   ]
  },
  {
   "cell_type": "markdown",
   "id": "91c38b70",
   "metadata": {},
   "source": [
    "* Classfying customers on their beheviour.\n",
    "* Sales Prediction\n",
    "* Virtual personal assistant\n",
    "* Online Fraud Detection\n",
    "* Autonomus Driving"
   ]
  },
  {
   "cell_type": "code",
   "execution_count": null,
   "id": "fbc623c4",
   "metadata": {},
   "outputs": [],
   "source": []
  },
  {
   "cell_type": "markdown",
   "id": "8dcbd806",
   "metadata": {},
   "source": [
    "### 3.What is a labeled training set, and how does it work?"
   ]
  },
  {
   "cell_type": "markdown",
   "id": "3145bd94",
   "metadata": {},
   "source": [
    "Ans :  Labeled training set  is a designation for pieces of data that have been tagged with one or more labels identifying certain properties or characteristics, or classifications or contained objects. Labels make that data specifically useful in certain types of machine learning known as supervised machine learning setups."
   ]
  },
  {
   "cell_type": "code",
   "execution_count": null,
   "id": "6ca734f1",
   "metadata": {},
   "outputs": [],
   "source": []
  },
  {
   "cell_type": "markdown",
   "id": "b3e0dbee",
   "metadata": {},
   "source": [
    "### 4.What are the two most important tasks that are supervised?"
   ]
  },
  {
   "cell_type": "markdown",
   "id": "adfbdf42",
   "metadata": {},
   "source": [
    "Ans : The two most common supervised tasks are regression and classification"
   ]
  },
  {
   "cell_type": "code",
   "execution_count": null,
   "id": "7bcc3139",
   "metadata": {},
   "outputs": [],
   "source": []
  },
  {
   "cell_type": "markdown",
   "id": "82bd1034",
   "metadata": {},
   "source": [
    "### 5.Can you think of four examples of unsupervised tasks?"
   ]
  },
  {
   "cell_type": "markdown",
   "id": "617fc9e6",
   "metadata": {},
   "source": [
    "Ans :  Clustering, visualization, dimensionality reduction, and outlier detection"
   ]
  },
  {
   "cell_type": "code",
   "execution_count": null,
   "id": "1f1579fa",
   "metadata": {},
   "outputs": [],
   "source": []
  },
  {
   "cell_type": "markdown",
   "id": "bbd40422",
   "metadata": {},
   "source": [
    "### 6.State the machine learning model that would be best to make a robot walk through various unfamiliar terrains?"
   ]
  },
  {
   "cell_type": "code",
   "execution_count": null,
   "id": "652aef91",
   "metadata": {},
   "outputs": [],
   "source": []
  },
  {
   "cell_type": "markdown",
   "id": "6acc3213",
   "metadata": {},
   "source": [
    "### 7.Which algorithm will you use to divide your customers into different groups?"
   ]
  },
  {
   "cell_type": "markdown",
   "id": "e53727f3",
   "metadata": {},
   "source": [
    "Ans : The technique of unsupervised machine learning comes handy when we have to make groups in our dataset, clustering techniques like k-means clustering or DBscan can be used to devide customers into diffrent groups"
   ]
  },
  {
   "cell_type": "code",
   "execution_count": null,
   "id": "a85698f7",
   "metadata": {},
   "outputs": [],
   "source": []
  },
  {
   "cell_type": "markdown",
   "id": "b49f6c07",
   "metadata": {},
   "source": [
    "### 8.Will you consider the problem of spam detection to be a supervised or unsupervised learning problem?"
   ]
  },
  {
   "cell_type": "markdown",
   "id": "ddaf3cf1",
   "metadata": {},
   "source": [
    "Ans : spam detection is a supervised machine learing problem "
   ]
  },
  {
   "cell_type": "code",
   "execution_count": null,
   "id": "59d52866",
   "metadata": {},
   "outputs": [],
   "source": []
  },
  {
   "cell_type": "markdown",
   "id": "74fd71c3",
   "metadata": {},
   "source": [
    "### 9.What is the concept of an online learning system?"
   ]
  },
  {
   "cell_type": "markdown",
   "id": "07ce8bf7",
   "metadata": {},
   "source": [
    "Ans :  An online learning system learns from new data on-the-fly. As a result, the system is trained incrementally either by using one example at a time or using a mini-batch approach. This keeps each learning step cheap and memory efficient."
   ]
  },
  {
   "cell_type": "code",
   "execution_count": null,
   "id": "c06efef7",
   "metadata": {},
   "outputs": [],
   "source": []
  },
  {
   "cell_type": "markdown",
   "id": "437e7597",
   "metadata": {},
   "source": [
    "### 10.What is out-of-core learning, and how does it differ from core learning?"
   ]
  },
  {
   "cell_type": "markdown",
   "id": "0098e1ec",
   "metadata": {},
   "source": [
    "Ans : Out-of-core learning is used when a dataset is too large to fit into a computer's memory. The algorithm loads part of the data, runs a training step, then repeats the process until it has run on all the data."
   ]
  },
  {
   "cell_type": "code",
   "execution_count": null,
   "id": "7e3820b1",
   "metadata": {},
   "outputs": [],
   "source": []
  },
  {
   "cell_type": "markdown",
   "id": "27eb41aa",
   "metadata": {},
   "source": [
    "### 11.What kind of learning algorithm makes predictions using a similarity measure?"
   ]
  },
  {
   "cell_type": "code",
   "execution_count": null,
   "id": "524a3721",
   "metadata": {},
   "outputs": [],
   "source": []
  },
  {
   "cell_type": "markdown",
   "id": "1a242487",
   "metadata": {},
   "source": [
    "### 12.What's the difference between a model parameter and a hyperparameter in a learning algorithm?"
   ]
  },
  {
   "cell_type": "markdown",
   "id": "5b2ce7cf",
   "metadata": {},
   "source": [
    "Ans : A hyperparameter is a parameter of the learning algorithm, not the model. For example, in a simple linear regression problem our model is parameterized by theta which is a vector of weights. In order to find the best values for theta we have a cost function which is run repeatedly by the gradient descent algorithm. Gradient descent has a hyperparameter called alpha which is the learning rate of the algorithm."
   ]
  },
  {
   "cell_type": "code",
   "execution_count": null,
   "id": "690a8340",
   "metadata": {},
   "outputs": [],
   "source": []
  },
  {
   "cell_type": "markdown",
   "id": "452b3a29",
   "metadata": {},
   "source": [
    "### 13.What are the criteria that model-based learning algorithms look for? What is the most popular method they use to achieve success? What method do they use to make predictions?"
   ]
  },
  {
   "cell_type": "markdown",
   "id": "6e6028d2",
   "metadata": {},
   "source": [
    "Ans : The goal for a model-based algorithm is to be able to generalize to new examples. To do this, model based algorithms search for optimal values for the model's parameters, often called theta. This searching, or \"learning\", is what machine learning is all about. Model-based system learn by minimizing a cost function that measures how bad the system is at making predicitons on new data, plus a penalty for model complexity if the model is regularized. To make a prediction, a new instance's features are fed into a hypothesis function which uses the minimized theta found by repeatedly running the cost function."
   ]
  },
  {
   "cell_type": "code",
   "execution_count": null,
   "id": "9188824f",
   "metadata": {},
   "outputs": [],
   "source": []
  },
  {
   "cell_type": "markdown",
   "id": "6215188d",
   "metadata": {},
   "source": [
    "### 14.Can you name four of the most important Machine Learning challenges?"
   ]
  },
  {
   "cell_type": "markdown",
   "id": "3d3fd28d",
   "metadata": {},
   "source": [
    "Ans :\n",
    "* Not gathering enough data, or sampling noise. Sampling noise means we'll have non-representative data as a result of chance.\n",
    "\n",
    "* Using a dataset that is not representative of the cases you want to generalize to. This is called sampling bias. For example, if you want to train an algorithm with \"cat videos\", and all your videos are from YouTube, you're actually training an algorithm to learn about \"YouTube cat videos.\"\n",
    "\n",
    "* Your dataset is full of missing values, outliers, and noise (poor measurments).\n",
    "\n",
    "* The features in your dataset are irrelevant. Garbage in, garbage out.\n",
    "    * Feature selection - choose the most relevant features from your dataset\n",
    "    * Feature extraction - combine features in your dataset to generate a new, more useful feature\n",
    "\n",
    "* When your model performs well on the training data, but not on test data, you've over fit your model. Models that suffer from overfitting do not generalize well to new examples. Overfitting happens when the model is too complex relative to the amount and noisiness of the data.\n",
    "\n",
    "    * Try simplyfying the model by reducing the number of features in the data or constraining the parameters by reducing the degrees of freedom.\n",
    "    * Gather more training data.\n",
    "    * Reduce noise in the training data by fixing errors and removing outliers.\n",
    "\n",
    "* When your model is too simple to learn the underlying structure of the data you've underfit your model.\n",
    "\n",
    "    * Select a more powerful model with more parameters\n",
    "    * Use feature engineering to feed better features to the model\n",
    "    * Reduce the constraints of the model (increase degrees of freedom, reduce regularization parameter, etc.)"
   ]
  },
  {
   "cell_type": "code",
   "execution_count": null,
   "id": "38250e39",
   "metadata": {},
   "outputs": [],
   "source": []
  },
  {
   "cell_type": "markdown",
   "id": "be4e4da6",
   "metadata": {},
   "source": [
    "### 15.What happens if the model performs well on the training data but fails to generalize the results to new situations? Can you think of three different options?"
   ]
  },
  {
   "cell_type": "markdown",
   "id": "fd2b70e0",
   "metadata": {},
   "source": [
    "Ans : This is a case where the model is overfitting the training data. To couteract overfitting, we can reduce the complexity of the model by removing features or constraining the parameters. We could gather more data. Finally we can reduce noisiness in the data by fixing errors and removing outliers."
   ]
  },
  {
   "cell_type": "code",
   "execution_count": null,
   "id": "73a20dad",
   "metadata": {},
   "outputs": [],
   "source": []
  },
  {
   "cell_type": "markdown",
   "id": "73b7564a",
   "metadata": {},
   "source": [
    "### 16.What exactly is a test set, and why would you need one?"
   ]
  },
  {
   "cell_type": "markdown",
   "id": "9951f73e",
   "metadata": {},
   "source": [
    "Ans : When we want to know how well our model generalizes to new cases we prefer to use a test set instead of actually deploying the system. To build the test set we split the training data (50-50, 60-40, 80-20 are common splits) into a training set and test set."
   ]
  },
  {
   "cell_type": "code",
   "execution_count": null,
   "id": "51cfbb99",
   "metadata": {},
   "outputs": [],
   "source": []
  },
  {
   "cell_type": "markdown",
   "id": "f99bac38",
   "metadata": {},
   "source": [
    "### 17.What is a validation set's purpose?"
   ]
  },
  {
   "cell_type": "markdown",
   "id": "32ef645b",
   "metadata": {},
   "source": [
    "Ans : Let's say we have a linear model and we want to perform some hyperparameter tuning to reduce the generalization error. One way to do this 100 different models with 100 different hyperparameter values using the training set and finding the generalization error with the test set. You find the best hyperparameter value gives you 5% generalization error.\n",
    "\n",
    "So you launch the model into production and find you're seeing 15% generalization error. This isn't going as expected. What happened?\n",
    "\n",
    "The problem is that for each iteration of hyperparameter tuning, you measured the generalization error then updated the model using the same test set. In other words, your produced the best generalization error for the test set. The test set no longer represents cases the model hasn't seen before.\n",
    "\n",
    "A common solution to this problem is to have a second holdout set called the validation set. You train multiple models with various hyperparameters using the training set, you select the model and hyperparameters that perform best on the validation set, and when you are happy about your model you run a single final test against the test set to get an estimate of the generalization error."
   ]
  },
  {
   "cell_type": "code",
   "execution_count": null,
   "id": "64b9b76c",
   "metadata": {},
   "outputs": [],
   "source": []
  },
  {
   "cell_type": "markdown",
   "id": "d9df092f",
   "metadata": {},
   "source": [
    "### 18.What precisely is the train-dev kit, when will you need it, how do you put it to use?"
   ]
  },
  {
   "cell_type": "code",
   "execution_count": null,
   "id": "481965c7",
   "metadata": {},
   "outputs": [],
   "source": []
  },
  {
   "cell_type": "markdown",
   "id": "1bb6f03e",
   "metadata": {},
   "source": [
    "### 19.What could go wrong if you use the test set to tune hyperparameters?"
   ]
  },
  {
   "cell_type": "markdown",
   "id": "4991878a",
   "metadata": {},
   "source": [
    "Ans : Our model will not be generalizable to new examples."
   ]
  },
  {
   "cell_type": "code",
   "execution_count": null,
   "id": "11f73bb2",
   "metadata": {},
   "outputs": [],
   "source": []
  },
  {
   "cell_type": "code",
   "execution_count": null,
   "id": "55c64356",
   "metadata": {},
   "outputs": [],
   "source": []
  }
 ],
 "metadata": {
  "kernelspec": {
   "display_name": "Python 3",
   "language": "python",
   "name": "python3"
  },
  "language_info": {
   "codemirror_mode": {
    "name": "ipython",
    "version": 3
   },
   "file_extension": ".py",
   "mimetype": "text/x-python",
   "name": "python",
   "nbconvert_exporter": "python",
   "pygments_lexer": "ipython3",
   "version": "3.8.8"
  }
 },
 "nbformat": 4,
 "nbformat_minor": 5
}
