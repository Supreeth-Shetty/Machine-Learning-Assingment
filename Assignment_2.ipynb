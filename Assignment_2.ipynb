{
 "cells": [
  {
   "cell_type": "markdown",
   "id": "93080cde",
   "metadata": {},
   "source": [
    "### 1. What is the concept of human learning? Please give two examples."
   ]
  },
  {
   "cell_type": "markdown",
   "id": "db2ddc1b",
   "metadata": {},
   "source": [
    "Ans : Human learning is a process of acquiring knowledge. Our behavior, skills, values and ethics are acquired when we process information through our minds and learn. Human learning may occur as part of education, personal development or any other informal/formal training.\n",
    "\n",
    "* Learning to play new games\n",
    "* Learning new languages."
   ]
  },
  {
   "cell_type": "code",
   "execution_count": null,
   "id": "113769ef",
   "metadata": {},
   "outputs": [],
   "source": []
  },
  {
   "cell_type": "markdown",
   "id": "52293883",
   "metadata": {},
   "source": [
    "### 2. What different forms of human learning are there? Are there any machine learning equivalents?"
   ]
  },
  {
   "cell_type": "markdown",
   "id": "cd9c2191",
   "metadata": {},
   "source": [
    "Ans : There are three main types of learning: **classical conditioning**, **operant conditioning**, and **observational learning**. Both classical and operant conditioning are forms of associative learning, in which associations are made between events that occur together. Observational learning is just as it sounds: learning by observing others.\n",
    "\n",
    "Artificial neural networks follow the neuronal principle of Hebbian learning, where the algorithm centres on inputs with similar properties, just like how neurons that activate simultaneously strengthen the synaptic link between each other"
   ]
  },
  {
   "cell_type": "code",
   "execution_count": null,
   "id": "18565ac1",
   "metadata": {},
   "outputs": [],
   "source": []
  },
  {
   "cell_type": "markdown",
   "id": "d8fc2e89",
   "metadata": {},
   "source": [
    "### 3. What is machine learning, and how does it work? What are the key responsibilities of machine learning?"
   ]
  },
  {
   "cell_type": "markdown",
   "id": "3ea13986",
   "metadata": {},
   "source": [
    "Ans : Machine learning is a form of artificial intelligence (AI) that teaches computers to think in a similar way to how humans do: Learning and improving upon past experiences. It works by exploring data and identifying patterns, and involves minimal human intervention."
   ]
  },
  {
   "cell_type": "markdown",
   "id": "cd04da45",
   "metadata": {},
   "source": [
    "\n",
    "* Automation at its best. ...\n",
    "* Customer engagement like never before. ...\n",
    "* The ability to take efficiency to the next level when merged with IoT. ...\n",
    "* The ability to change the mortgage market. ...\n",
    "* Accurate data analysis.\n",
    "* Business intelligence at its best"
   ]
  },
  {
   "cell_type": "code",
   "execution_count": null,
   "id": "01a8d12d",
   "metadata": {},
   "outputs": [],
   "source": []
  },
  {
   "cell_type": "markdown",
   "id": "bfade8ba",
   "metadata": {},
   "source": [
    "### 4. Define the terms \"penalty\" and \"reward\" in the context of reinforcement learning."
   ]
  },
  {
   "cell_type": "markdown",
   "id": "206f4967",
   "metadata": {},
   "source": [
    "Ans : In Reinforcement Learning (RL), agents are trained on a reward and punishment mechanism. The agent is rewarded for correct moves and punished for the wrong ones. In doing so, the agent tries to minimize wrong moves and maximize the right ones. "
   ]
  },
  {
   "cell_type": "code",
   "execution_count": null,
   "id": "a5883608",
   "metadata": {},
   "outputs": [],
   "source": []
  },
  {
   "cell_type": "markdown",
   "id": "c2d43ad0",
   "metadata": {},
   "source": [
    "### 5. Explain the term \"learning as a search\"?"
   ]
  },
  {
   "cell_type": "code",
   "execution_count": null,
   "id": "478619f7",
   "metadata": {},
   "outputs": [],
   "source": []
  },
  {
   "cell_type": "markdown",
   "id": "4eca6fcb",
   "metadata": {},
   "source": [
    "### 6. What are the various goals of machine learning? What is the relationship between these and human learning?"
   ]
  },
  {
   "cell_type": "markdown",
   "id": "302dd08f",
   "metadata": {},
   "source": [
    "Ans : The goal of machine learning, in simples words, is to understand the nature of (human and other forms of) learning, and to build learning capability in computers. To be more specific, there are three aspects of the goals\n",
    "of ML.\n",
    "* To make the computers smarter, more intelligent. The more direct objective in this aspect is to\n",
    "develop systems (programs) for specific practical learning tasks in application domains.\n",
    "* To dev elop computational models of human learning process and perform computer simulations.\n",
    "The study in this aspect is also called cognitive modeling.\n",
    "* To explore new learning methods and develop general learning algorithms independent of applications."
   ]
  },
  {
   "cell_type": "code",
   "execution_count": null,
   "id": "56a9d4fd",
   "metadata": {},
   "outputs": [],
   "source": []
  },
  {
   "cell_type": "markdown",
   "id": "0214ffec",
   "metadata": {},
   "source": [
    "### 7. Illustrate the various elements of machine learning using a real-life illustration."
   ]
  },
  {
   "cell_type": "markdown",
   "id": "f62b08b9",
   "metadata": {},
   "source": [
    "Ans : Machine learning is one modern innovation that has helped man enhance not only many industrial and professional processes but also advances everyday living, the real life use cases are listed below\n",
    "\n",
    "* Image Recognition\n",
    "* Speech Recognition\n",
    "* Medical diagnosis\n",
    "* Statistical Arbitrage\n",
    "* Classification\n",
    "* Prediction\n",
    "* Financial Services\n",
    "\n",
    "In a nutshell, we can say that machine learning is an incredible breakthrough in the field of artificial intelligence. And while machine learning has some frightening implications, these machine learning applications are one of the ways through which technology can improve our lives."
   ]
  },
  {
   "cell_type": "code",
   "execution_count": null,
   "id": "a69fd613",
   "metadata": {},
   "outputs": [],
   "source": []
  },
  {
   "cell_type": "markdown",
   "id": "c74cd6d4",
   "metadata": {},
   "source": [
    "### 8. Provide an example of the abstraction method."
   ]
  },
  {
   "cell_type": "markdown",
   "id": "7f9a428c",
   "metadata": {},
   "source": [
    "Ans : Data Abstraction refers to the act of representing essential features without including the background details or explanations. A Switchboard is an example of Data Abstraction. It hides all the details of the circuitry and current flow and provides a very simple way to switch ON or OFF electrical appliances."
   ]
  },
  {
   "cell_type": "code",
   "execution_count": null,
   "id": "2279e99f",
   "metadata": {},
   "outputs": [],
   "source": []
  },
  {
   "cell_type": "markdown",
   "id": "426e5f02",
   "metadata": {},
   "source": [
    "### 9. What is the concept of generalization? What function does it play in the machine learning process?"
   ]
  },
  {
   "cell_type": "markdown",
   "id": "9f967adb",
   "metadata": {},
   "source": [
    "Ans : In machine learning, generalization is a definition to demonstrate how well is a trained model to classify or forecast unseen data. Training a generalized machine learning model means, in general, it works for all subset of unseen data. An example is when we train a model to classify between dogs and cats. If the model is provided with dogs images dataset with only two breeds, it may obtain a good performance. But, it possibly gets a low classification score when it is tested by other breeds of dogs as well. This issue can result to classify an actual dog image as a cat from the unseen dataset. Therefore, data diversity is very important factor in order to make a good prediction"
   ]
  },
  {
   "cell_type": "code",
   "execution_count": null,
   "id": "acb1fcae",
   "metadata": {},
   "outputs": [],
   "source": []
  },
  {
   "cell_type": "markdown",
   "id": "bbe3d793",
   "metadata": {},
   "source": [
    "### 10. What is classification, exactly? What are the main distinctions between classification and regression?"
   ]
  },
  {
   "cell_type": "markdown",
   "id": "4b08c64e",
   "metadata": {},
   "source": [
    "Ans : **Classification** is the process of finding or discovering a model or function which helps in separating the data into multiple categorical classes i.e. discrete values. In classification, data is categorized under different labels according to some parameters given in input and then the labels are predicted for the data. \n",
    "\n",
    "The key difference is that the output.\n",
    "\n",
    "For classification is one of a discrete set (e.g. \"what type of fruit is this?\" or \"what medical condition is the person suffering from?\")\n",
    "\n",
    "For regression the output is a continuous number (e.g. \"what's the expected amount the stock market will go up or down today?\" or \"how carcinogenic is this compound?\")."
   ]
  },
  {
   "cell_type": "markdown",
   "id": "df282534",
   "metadata": {},
   "source": []
  },
  {
   "cell_type": "markdown",
   "id": "2326e2ba",
   "metadata": {},
   "source": [
    "### 11. What is regression, and how does it work? Give an example of a real-world problem that was solved using regression."
   ]
  },
  {
   "cell_type": "markdown",
   "id": "41f4af21",
   "metadata": {},
   "source": [
    "Ans : Regression analysis is a statistical method that helps us to analyze and understand the relationship between two or more variables of interest. The process that is adapted to perform regression analysis helps to understand which factors are important, which factors can be ignored, and how they are influencing each other.\n",
    "\n",
    "For the regression analysis is be a successful method, we understand the following terms:\n",
    "\n",
    "* Dependent Variable: This is the variable that we are trying to understand or forecast.\n",
    "* Independent Variable: These are factors that influence the analysis or target variable and provide us with information regarding the relationship of the variables with the target variable.\n",
    "\n",
    "Examples:\n",
    "\n",
    "* **Predictive Analytics** : Predictive analytics i.e. forecasting future opportunities and risks is the most prominent application of regression analysis in business.\n",
    "\n",
    "* **Operation Efficiency** : Regression models can also be used to optimize business processes.\n",
    "\n",
    "* **Supporting Decisions** : Businesses today are overloaded with data on finances, operations and customer purchases. Increasingly, executives are now leaning on data analytics to make informed business decisions that have statistical significance, thus eliminating the intuition and gut feel.  \n",
    "* **Correcting Errors** : Regression is not only great for lending empirical support to management decisions but also for identifying errors in judgment.For example, a retail store manager may believe that extending shopping hours will greatly increase sales. RA, however, may indicate that the increase in revenue might not be sufficient to support the rise in operating expenses due to longer working hours (such as additional employee labor charges). Hence, this analysis can provide quantitative support for decisions and prevent mistakes due to manager’s intuitions.\n",
    "* **New Insights** : Over time businesses have gathered a large volume of unorganized data that has the potential to yield valuable insights. However, this data is useless without proper analysis. RA techniques can find a relationship between different variables by uncovering patterns that were previously unnoticed. For example, analysis of data from point of sales systems and purchase accounts may highlight market patterns like increase in demand on certain days of the week or at certain times of the year. You can maintain optimal stock and personnel before a spike in demand arises by acknowledging these insights."
   ]
  },
  {
   "cell_type": "code",
   "execution_count": null,
   "id": "343bc666",
   "metadata": {},
   "outputs": [],
   "source": []
  },
  {
   "cell_type": "markdown",
   "id": "3186fd78",
   "metadata": {},
   "source": [
    "### 12. Describe the clustering mechanism in detail."
   ]
  },
  {
   "cell_type": "markdown",
   "id": "884b4851",
   "metadata": {},
   "source": [
    "Ans : It is basically a type of unsupervised learning method. An unsupervised learning method is a method in which we draw references from datasets consisting of input data without labeled responses. \n",
    "\n",
    "**Clustering** is the task of dividing the population or data points into a number of groups such that data points in the same groups are more similar to other data points in the same group and dissimilar to the data points in other groups. It is basically a collection of objects on the basis of similarity and dissimilarity between them. \n",
    "\n",
    "**Clustering Methods** \n",
    "* Density-Based Methods\n",
    "* Hierarchical Based Methods\n",
    "    * Agglomerative (bottom-up approach)\n",
    "    * Divisive (top-down approach)\n",
    "* Partitioning Methods\n",
    "* Grid-based Methods\n",
    "\n",
    "**Clustering Algorithms**\n",
    "* Agglomerative Clustering\n",
    "* BIRCH\n",
    "* DBSCAN\n",
    "* K-Means\n",
    "* Mini-Batch K-Means\n",
    "* Mean Shift\n",
    "* OPTICS\n",
    "* Spectral Clustering\n",
    "* Mixture of Gaussians"
   ]
  },
  {
   "cell_type": "code",
   "execution_count": null,
   "id": "39a68298",
   "metadata": {},
   "outputs": [],
   "source": []
  },
  {
   "cell_type": "markdown",
   "id": "070d1261",
   "metadata": {},
   "source": [
    "### 13. Make brief observations on two of the following topics:\n",
    "    i. Machine learning algorithms are used\n",
    "    ii. Studying under supervision\n",
    "    iii. Studying without supervision\n",
    "    iv. Reinforcement learning is a form of learning based on positive reinforcement.\n"
   ]
  },
  {
   "cell_type": "code",
   "execution_count": null,
   "id": "32dd82ef",
   "metadata": {},
   "outputs": [],
   "source": []
  }
 ],
 "metadata": {
  "kernelspec": {
   "display_name": "Python 3",
   "language": "python",
   "name": "python3"
  },
  "language_info": {
   "codemirror_mode": {
    "name": "ipython",
    "version": 3
   },
   "file_extension": ".py",
   "mimetype": "text/x-python",
   "name": "python",
   "nbconvert_exporter": "python",
   "pygments_lexer": "ipython3",
   "version": "3.8.8"
  }
 },
 "nbformat": 4,
 "nbformat_minor": 5
}
